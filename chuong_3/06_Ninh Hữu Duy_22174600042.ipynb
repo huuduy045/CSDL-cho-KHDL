{
 "cells": [
  {
   "cell_type": "markdown",
   "metadata": {},
   "source": [
    "## Bài 1"
   ]
  },
  {
   "cell_type": "code",
   "execution_count": 1,
   "metadata": {},
   "outputs": [
    {
     "name": "stdout",
     "output_type": "stream",
     "text": [
      "Hệ số tương quan Pearson r = 0.9924052482502039\n"
     ]
    }
   ],
   "source": [
    "import sqlite3\n",
    "import pandas as pd\n",
    "import math\n",
    "\n",
    "# Dữ liệu ví dụ\n",
    "df = pd.DataFrame({\n",
    "    'A': [10, 20, 30, 40, 50],\n",
    "    'B': [12, 24, 33, 47, 52]\n",
    "})\n",
    "\n",
    "# Tạo kết nối SQLite in-memory\n",
    "conn = sqlite3.connect(\":memory:\")\n",
    "df.to_sql(\"my_table\", conn, index=False, if_exists=\"replace\")\n",
    "\n",
    "# Truy vấn các giá trị cần tính\n",
    "query = \"\"\"\n",
    "SELECT\n",
    "    COUNT(*) as n,\n",
    "    SUM(A) as sum_a,\n",
    "    SUM(B) as sum_b,\n",
    "    SUM(A * B) as sum_ab,\n",
    "    SUM(A * A) as sum_a2,\n",
    "    SUM(B * B) as sum_b2\n",
    "FROM my_table;\n",
    "\"\"\"\n",
    "\n",
    "row = conn.execute(query).fetchone()\n",
    "n, sum_a, sum_b, sum_ab, sum_a2, sum_b2 = row\n",
    "\n",
    "# Áp dụng công thức Pearson\n",
    "numerator = n * sum_ab - sum_a * sum_b\n",
    "denominator = math.sqrt(n * sum_a2 - sum_a**2) * math.sqrt(n * sum_b2 - sum_b**2)\n",
    "r = numerator / denominator\n",
    "\n",
    "print(f\"Hệ số tương quan Pearson r = {r}\")\n"
   ]
  },
  {
   "cell_type": "markdown",
   "metadata": {},
   "source": [
    "## Bài 2\n"
   ]
  },
  {
   "cell_type": "code",
   "execution_count": 4,
   "metadata": {},
   "outputs": [
    {
     "name": "stdout",
     "output_type": "stream",
     "text": [
      "     Day Model  Score\n",
      "0  Day 1     A    8.0\n",
      "1  Day 1     B    9.0\n",
      "2  Day 1     C    7.0\n",
      "3  Day 2     A    7.5\n",
      "4  Day 2     B    8.5\n"
     ]
    }
   ],
   "source": [
    "import sqlite3\n",
    "import pandas as pd\n",
    "\n",
    "# Tạo dữ liệu dạng long format\n",
    "data = pd.DataFrame({\n",
    "    'Day': ['Day 1']*3 + ['Day 2']*3 + ['Day 3']*3 + ['Day 4']*3,\n",
    "    'Model': ['A', 'B', 'C']*4,\n",
    "    'Score': [8, 9, 7, 7.5, 8.5, 7, 6, 7, 8, 7, 6, 5]\n",
    "})\n",
    "\n",
    "# Kết nối SQLite in-memory\n",
    "conn = sqlite3.connect(':memory:')\n",
    "\n",
    "# Đẩy dữ liệu vào SQLite\n",
    "data.to_sql(\"test_scores\", conn, index=False, if_exists=\"replace\")\n",
    "\n",
    "# Kiểm tra xem có dữ liệu chưa\n",
    "print(pd.read_sql(\"SELECT * FROM test_scores LIMIT 5;\", conn))\n"
   ]
  },
  {
   "cell_type": "code",
   "execution_count": 6,
   "metadata": {},
   "outputs": [
    {
     "name": "stdout",
     "output_type": "stream",
     "text": [
      "\n",
      "-- Trung bình theo mẫu --\n",
      "  Model  n  avg_score\n",
      "0     A  4      7.125\n",
      "1     B  4      7.625\n",
      "2     C  4      6.750\n",
      "\n",
      "-- Trung bình theo ngày --\n",
      "     Day  n  avg_score\n",
      "0  Day 1  3   8.000000\n",
      "1  Day 2  3   7.666667\n",
      "2  Day 3  3   7.000000\n",
      "3  Day 4  3   6.000000\n",
      "\n",
      "-- Trung bình toàn bộ --\n",
      "   overall_avg\n",
      "0     7.166667\n"
     ]
    }
   ],
   "source": [
    "# Trung bình theo mẫu\n",
    "query_model_avg = \"\"\"\n",
    "SELECT Model, COUNT(*) AS n, AVG(Score) AS avg_score\n",
    "FROM test_scores\n",
    "GROUP BY Model;\n",
    "\"\"\"\n",
    "\n",
    "# Trung bình theo ngày\n",
    "query_day_avg = \"\"\"\n",
    "SELECT Day, COUNT(*) AS n, AVG(Score) AS avg_score\n",
    "FROM test_scores\n",
    "GROUP BY Day;\n",
    "\"\"\"\n",
    "\n",
    "# Trung bình toàn bộ\n",
    "query_overall_avg = \"\"\"\n",
    "SELECT AVG(Score) as overall_avg FROM test_scores;\n",
    "\"\"\"\n",
    "\n",
    "print(\"\\n-- Trung bình theo mẫu --\")\n",
    "print(pd.read_sql(query_model_avg, conn))\n",
    "\n",
    "print(\"\\n-- Trung bình theo ngày --\")\n",
    "print(pd.read_sql(query_day_avg, conn))\n",
    "\n",
    "print(\"\\n-- Trung bình toàn bộ --\")\n",
    "print(pd.read_sql(query_overall_avg, conn))\n"
   ]
  },
  {
   "cell_type": "markdown",
   "metadata": {},
   "source": [
    "## Bài 3"
   ]
  },
  {
   "cell_type": "code",
   "execution_count": 7,
   "metadata": {},
   "outputs": [
    {
     "name": "stdout",
     "output_type": "stream",
     "text": [
      "   departure_time formatted_time\n",
      "0               0          00:00\n",
      "1               5          00:05\n",
      "2              30          00:30\n",
      "3             830          08:30\n",
      "4             945          09:45\n",
      "5            1445          14:45\n",
      "6            2359          23:59\n"
     ]
    }
   ],
   "source": [
    "import sqlite3\n",
    "import pandas as pd\n",
    "\n",
    "# Tạo DB và dữ liệu mẫu\n",
    "conn = sqlite3.connect(':memory:')\n",
    "conn.execute(\"CREATE TABLE flights (departure_time INTEGER)\")\n",
    "conn.executemany(\"INSERT INTO flights (departure_time) VALUES (?)\", [\n",
    "    (0,), (5,), (30,), (830,), (945,), (1445,), (2359,)\n",
    "])\n",
    "\n",
    "# Truy vấn format lại giờ\n",
    "query = \"\"\"\n",
    "SELECT \n",
    "  departure_time,\n",
    "  printf('%02d:%02d', departure_time / 100, departure_time % 100) AS formatted_time\n",
    "FROM flights;\n",
    "\"\"\"\n",
    "\n",
    "df = pd.read_sql(query, conn)\n",
    "print(df)\n"
   ]
  },
  {
   "cell_type": "markdown",
   "metadata": {},
   "source": [
    "## Bài 4\n"
   ]
  },
  {
   "cell_type": "code",
   "execution_count": 8,
   "metadata": {},
   "outputs": [
    {
     "name": "stdout",
     "output_type": "stream",
     "text": [
      "-- Ngoại lệ được phát hiện --\n",
      "   value\n",
      "0      9\n",
      "1    100\n"
     ]
    }
   ],
   "source": [
    "import sqlite3\n",
    "import pandas as pd\n",
    "import numpy as np\n",
    "\n",
    "# Giả sử có bảng giá trị\n",
    "data = pd.DataFrame({'value': [10, 12, 11, 13, 10, 9, 12, 100]})  # 100 là ngoại lệ\n",
    "\n",
    "# Tạo DB SQLite in-memory và nạp dữ liệu\n",
    "conn = sqlite3.connect(':memory:')\n",
    "data.to_sql('my_table', conn, index=False, if_exists='replace')\n",
    "\n",
    "# Lấy dữ liệu từ SQL để tính median & MAD trong Python\n",
    "df = pd.read_sql(\"SELECT value FROM my_table\", conn)\n",
    "\n",
    "# Bước 1: Tính median\n",
    "median = df['value'].median()\n",
    "\n",
    "# Bước 2: Tính MAD\n",
    "mad = (df['value'] - median).abs().median()\n",
    "\n",
    "# Bước 3: Tìm giá trị ngoại lệ (dùng lại SQLite để lọc)\n",
    "threshold = 1.5 * mad\n",
    "query = f\"\"\"\n",
    "SELECT *\n",
    "FROM my_table\n",
    "WHERE ABS(value - {median}) > {threshold};\n",
    "\"\"\"\n",
    "outliers = pd.read_sql(query, conn)\n",
    "print(\"-- Ngoại lệ được phát hiện --\")\n",
    "print(outliers)\n"
   ]
  },
  {
   "cell_type": "markdown",
   "metadata": {},
   "source": [
    "## Bài 5\n"
   ]
  },
  {
   "cell_type": "code",
   "execution_count": 9,
   "metadata": {},
   "outputs": [
    {
     "name": "stdout",
     "output_type": "stream",
     "text": [
      "   last_name  weight1  weight2  height1  height2  weight_diff  is_same_person\n",
      "0     Nguyen     65.0     65.5    170.0    171.0          0.5               1\n",
      "10      Tran     60.0     59.9    168.0    168.0          0.1               1\n"
     ]
    }
   ],
   "source": [
    "import sqlite3\n",
    "import pandas as pd\n",
    "\n",
    "# Kết nối SQLite (trong bộ nhớ)\n",
    "conn = sqlite3.connect(':memory:')\n",
    "\n",
    "# Tạo bảng Patient\n",
    "conn.execute('''\n",
    "CREATE TABLE Patient (\n",
    "    last_name TEXT,\n",
    "    weight REAL,\n",
    "    height REAL\n",
    ")\n",
    "''')\n",
    "\n",
    "# Thêm dữ liệu mẫu\n",
    "patients = [\n",
    "    ('Nguyen', 65, 170),\n",
    "    ('Nguyen', 65.5, 171),\n",
    "    ('Tran', 60, 168),\n",
    "    ('Nguyen', 70, 172),\n",
    "    ('Tran', 59.9, 168),\n",
    "    ('Le', 50, 160)\n",
    "]\n",
    "conn.executemany('INSERT INTO Patient VALUES (?, ?, ?)', patients)\n",
    "\n",
    "# Truy vấn tìm các cặp có thể là cùng một người\n",
    "query = '''\n",
    "SELECT \n",
    "    A.last_name, A.weight AS weight1, B.weight AS weight2,\n",
    "    A.height AS height1, B.height AS height2,\n",
    "    ABS(A.weight - B.weight) AS weight_diff,\n",
    "    CASE \n",
    "        WHEN A.last_name = B.last_name AND ABS(A.weight - B.weight) <= 1 THEN 1\n",
    "        ELSE 0\n",
    "    END AS is_same_person\n",
    "FROM Patient A\n",
    "JOIN Patient B\n",
    "    ON A.rowid < B.rowid\n",
    "'''\n",
    "\n",
    "# Hiển thị kết quả\n",
    "df = pd.read_sql(query, conn)\n",
    "print(df[df['is_same_person'] == 1])  # Chỉ hiển thị các cặp có thể là cùng người\n"
   ]
  }
 ],
 "metadata": {
  "kernelspec": {
   "display_name": "base",
   "language": "python",
   "name": "python3"
  },
  "language_info": {
   "codemirror_mode": {
    "name": "ipython",
    "version": 3
   },
   "file_extension": ".py",
   "mimetype": "text/x-python",
   "name": "python",
   "nbconvert_exporter": "python",
   "pygments_lexer": "ipython3",
   "version": "3.12.7"
  }
 },
 "nbformat": 4,
 "nbformat_minor": 2
}
