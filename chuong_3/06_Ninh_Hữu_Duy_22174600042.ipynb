{
  "cells": [
    {
      "cell_type": "markdown",
      "metadata": {
        "id": "caaltNaST-2W"
      },
      "source": [
        "## Bài 1"
      ]
    },
    {
      "cell_type": "code",
      "execution_count": 1,
      "metadata": {
        "id": "yehJ0XoCT-2Y",
        "outputId": "1f727717-da75-4aa8-a015-bbe94b0936b2",
        "colab": {
          "base_uri": "https://localhost:8080/"
        }
      },
      "outputs": [
        {
          "output_type": "stream",
          "name": "stdout",
          "text": [
            "Hệ số tương quan Pearson r = 0.9924052482502039\n"
          ]
        }
      ],
      "source": [
        "import sqlite3\n",
        "import pandas as pd\n",
        "import math\n",
        "\n",
        "df = pd.DataFrame({\n",
        "    'A': [10, 20, 30, 40, 50],\n",
        "    'B': [12, 24, 33, 47, 52]\n",
        "})\n",
        "\n",
        "# Tạo kết nối SQLite in-memory\n",
        "conn = sqlite3.connect(\":memory:\")\n",
        "df.to_sql(\"my_table\", conn, index=False, if_exists=\"replace\")\n",
        "\n",
        "# Truy vấn các giá trị cần tính với CTE\n",
        "query = \"\"\"\n",
        "WITH Data AS (\n",
        "    SELECT\n",
        "        COUNT(*) as n,\n",
        "        SUM(A) as sum_a,\n",
        "        SUM(B) as sum_b,\n",
        "        SUM(A * B) as sum_ab,\n",
        "        SUM(A * A) as sum_a2,\n",
        "        SUM(B * B) as sum_b2\n",
        "    FROM my_table\n",
        ")\n",
        "SELECT n, sum_a, sum_b, sum_ab, sum_a2, sum_b2 FROM Data;\n",
        "\"\"\"\n",
        "\n",
        "row = conn.execute(query).fetchone()\n",
        "n, sum_a, sum_b, sum_ab, sum_a2, sum_b2 = row\n",
        "\n",
        "# Áp dụng công thức Pearson\n",
        "numerator = n * sum_ab - sum_a * sum_b\n",
        "denominator = math.sqrt(n * sum_a2 - sum_a**2) * math.sqrt(n * sum_b2 - sum_b**2)\n",
        "r = numerator / denominator\n",
        "\n",
        "print(f\"Hệ số tương quan Pearson r = {r}\")"
      ]
    },
    {
      "cell_type": "markdown",
      "metadata": {
        "id": "ChBrWGz3T-2b"
      },
      "source": [
        "## Bài 2\n"
      ]
    },
    {
      "cell_type": "code",
      "execution_count": 2,
      "metadata": {
        "id": "fcj8zUUpT-2c",
        "outputId": "fbfccf06-76e0-4936-b221-5fb4b5fcb1ef",
        "colab": {
          "base_uri": "https://localhost:8080/"
        }
      },
      "outputs": [
        {
          "output_type": "stream",
          "name": "stdout",
          "text": [
            "     Day Model  Score\n",
            "0  Day 1     A    8.0\n",
            "1  Day 1     B    9.0\n",
            "2  Day 1     C    7.0\n",
            "3  Day 2     A    7.5\n",
            "4  Day 2     B    8.5\n",
            "\n",
            "-- Trung bình theo mẫu --\n",
            "  Model  n  avg_score\n",
            "0     A  4      7.125\n",
            "1     B  4      7.625\n",
            "2     C  4      6.750\n",
            "\n",
            "-- Trung bình theo ngày --\n",
            "     Day  n  avg_score\n",
            "0  Day 1  3   8.000000\n",
            "1  Day 2  3   7.666667\n",
            "2  Day 3  3   7.000000\n",
            "3  Day 4  3   6.000000\n",
            "\n",
            "-- Trung bình toàn bộ --\n",
            "   overall_avg\n",
            "0     7.166667\n"
          ]
        }
      ],
      "source": [
        "import sqlite3\n",
        "import pandas as pd\n",
        "\n",
        "# Tạo dữ liệu dạng long format bằng dictionary\n",
        "data_dict = {\n",
        "    'Day': ['Day 1']*3 + ['Day 2']*3 + ['Day 3']*3 + ['Day 4']*3,\n",
        "    'Model': ['A', 'B', 'C'] * 4,\n",
        "    'Score': [8, 9, 7, 7.5, 8.5, 7, 6, 7, 8, 7, 6, 5]\n",
        "}\n",
        "data = pd.DataFrame(data_dict)\n",
        "\n",
        "# Kết nối SQLite in-memory\n",
        "conn = sqlite3.connect(':memory:')\n",
        "\n",
        "# Đẩy dữ liệu vào SQLite\n",
        "data.to_sql(\"test_scores\", conn, index=False, if_exists=\"replace\")\n",
        "\n",
        "# Kiểm tra xem có dữ liệu chưa\n",
        "print(pd.read_sql(\"SELECT * FROM test_scores LIMIT 5;\", conn))\n",
        "\n",
        "# Trung bình theo mẫu\n",
        "query_model_avg = \"\"\"\n",
        "SELECT Model, COUNT(*) AS n, AVG(Score) AS avg_score\n",
        "FROM test_scores\n",
        "GROUP BY Model;\n",
        "\"\"\"\n",
        "\n",
        "# Trung bình theo ngày\n",
        "query_day_avg = \"\"\"\n",
        "SELECT Day, COUNT(*) AS n, AVG(Score) AS avg_score\n",
        "FROM test_scores\n",
        "GROUP BY Day;\n",
        "\"\"\"\n",
        "\n",
        "# Trung bình toàn bộ\n",
        "query_overall_avg = \"\"\"\n",
        "SELECT AVG(Score) AS overall_avg FROM test_scores;\n",
        "\"\"\"\n",
        "\n",
        "print(\"\\n-- Trung bình theo mẫu --\")\n",
        "print(pd.read_sql(query_model_avg, conn))\n",
        "\n",
        "print(\"\\n-- Trung bình theo ngày --\")\n",
        "print(pd.read_sql(query_day_avg, conn))\n",
        "\n",
        "print(\"\\n-- Trung bình toàn bộ --\")\n",
        "print(pd.read_sql(query_overall_avg, conn))"
      ]
    },
    {
      "cell_type": "code",
      "execution_count": null,
      "metadata": {
        "id": "-c2aB8DIT-2c",
        "outputId": "883f9d79-03db-45cf-e7bc-680ef14c3159"
      },
      "outputs": [
        {
          "name": "stdout",
          "output_type": "stream",
          "text": [
            "\n",
            "-- Trung bình theo mẫu --\n",
            "  Model  n  avg_score\n",
            "0     A  4      7.125\n",
            "1     B  4      7.625\n",
            "2     C  4      6.750\n",
            "\n",
            "-- Trung bình theo ngày --\n",
            "     Day  n  avg_score\n",
            "0  Day 1  3   8.000000\n",
            "1  Day 2  3   7.666667\n",
            "2  Day 3  3   7.000000\n",
            "3  Day 4  3   6.000000\n",
            "\n",
            "-- Trung bình toàn bộ --\n",
            "   overall_avg\n",
            "0     7.166667\n"
          ]
        }
      ],
      "source": [
        "# Trung bình theo mẫu\n",
        "query_model_avg = \"\"\"\n",
        "SELECT Model, COUNT(*) AS n, AVG(Score) AS avg_score\n",
        "FROM test_scores\n",
        "GROUP BY Model;\n",
        "\"\"\"\n",
        "\n",
        "# Trung bình theo ngày\n",
        "query_day_avg = \"\"\"\n",
        "SELECT Day, COUNT(*) AS n, AVG(Score) AS avg_score\n",
        "FROM test_scores\n",
        "GROUP BY Day;\n",
        "\"\"\"\n",
        "\n",
        "# Trung bình toàn bộ\n",
        "query_overall_avg = \"\"\"\n",
        "SELECT AVG(Score) as overall_avg FROM test_scores;\n",
        "\"\"\"\n",
        "\n",
        "print(\"\\n-- Trung bình theo mẫu --\")\n",
        "print(pd.read_sql(query_model_avg, conn))\n",
        "\n",
        "print(\"\\n-- Trung bình theo ngày --\")\n",
        "print(pd.read_sql(query_day_avg, conn))\n",
        "\n",
        "print(\"\\n-- Trung bình toàn bộ --\")\n",
        "print(pd.read_sql(query_overall_avg, conn))\n"
      ]
    },
    {
      "cell_type": "markdown",
      "metadata": {
        "id": "rAlxvSubT-2d"
      },
      "source": [
        "## Bài 3"
      ]
    },
    {
      "cell_type": "code",
      "execution_count": 3,
      "metadata": {
        "id": "JdpBZrYnT-2d",
        "outputId": "93f3366b-e643-4e84-fad3-64b755317af8",
        "colab": {
          "base_uri": "https://localhost:8080/"
        }
      },
      "outputs": [
        {
          "output_type": "stream",
          "name": "stdout",
          "text": [
            "   departure_time formatted_time\n",
            "0               0          00:00\n",
            "1               5          00:05\n",
            "2              30          00:30\n",
            "3             830          08:30\n",
            "4             945          09:45\n",
            "5            1445          14:45\n",
            "6            2359          23:59\n"
          ]
        }
      ],
      "source": [
        "import sqlite3\n",
        "import pandas as pd\n",
        "\n",
        "# Tạo DB và dữ liệu mẫu\n",
        "conn = sqlite3.connect(':memory:')\n",
        "conn.execute(\"CREATE TABLE flights (departure_time INTEGER)\")\n",
        "departure_times = [0, 5, 30, 830, 945, 1445, 2359]\n",
        "conn.executemany(\"INSERT INTO flights (departure_time) VALUES (?)\", [(t,) for t in departure_times])\n",
        "\n",
        "# Truy vấn format lại giờ\n",
        "query = \"\"\"\n",
        "SELECT\n",
        "  departure_time,\n",
        "  printf('%02d:%02d', departure_time / 100, departure_time % 100) AS formatted_time\n",
        "FROM flights;\n",
        "\"\"\"\n",
        "\n",
        "df = pd.read_sql(query, conn)\n",
        "print(df)"
      ]
    },
    {
      "cell_type": "markdown",
      "metadata": {
        "id": "3_JJJeA3T-2d"
      },
      "source": [
        "## Bài 4\n"
      ]
    },
    {
      "cell_type": "code",
      "execution_count": 4,
      "metadata": {
        "id": "FlRuxM2NT-2d",
        "outputId": "809ed864-9ef7-4cdc-e103-3ce48bea8316",
        "colab": {
          "base_uri": "https://localhost:8080/"
        }
      },
      "outputs": [
        {
          "output_type": "stream",
          "name": "stdout",
          "text": [
            "-- Ngoại lệ được phát hiện --\n",
            "   value\n",
            "0      9\n",
            "1    100\n"
          ]
        }
      ],
      "source": [
        "import sqlite3\n",
        "import pandas as pd\n",
        "import numpy as np\n",
        "\n",
        "# Giả sử có bảng giá trị\n",
        "values = [10, 12, 11, 13, 10, 9, 12, 100]\n",
        "data = pd.DataFrame({'value': values})  # 100 là ngoại lệ\n",
        "\n",
        "# Tạo DB SQLite in-memory và nạp dữ liệu\n",
        "conn = sqlite3.connect(':memory:')\n",
        "data.to_sql('my_table', conn, index=False, if_exists='replace')\n",
        "\n",
        "# Lấy dữ liệu từ SQL để tính median & MAD trong Python\n",
        "df = pd.read_sql(\"SELECT value FROM my_table\", conn)\n",
        "\n",
        "# Bước 1: Tính median\n",
        "median = df['value'].median()\n",
        "\n",
        "# Bước 2: Tính MAD\n",
        "mad = (df['value'] - median).abs().median()\n",
        "\n",
        "# Bước 3: Tìm giá trị ngoại lệ (dùng lại SQLite để lọc)\n",
        "threshold = 1.5 * mad\n",
        "query = f\"\"\"\n",
        "SELECT *\n",
        "FROM my_table\n",
        "WHERE ABS(value - {median}) > {threshold};\n",
        "\"\"\"\n",
        "outliers = pd.read_sql(query, conn)\n",
        "print(\"-- Ngoại lệ được phát hiện --\")\n",
        "print(outliers)"
      ]
    },
    {
      "cell_type": "markdown",
      "metadata": {
        "id": "zh-S7uwwT-2e"
      },
      "source": [
        "## Bài 5\n"
      ]
    },
    {
      "cell_type": "code",
      "execution_count": 7,
      "metadata": {
        "id": "MnWkLzpeT-2e",
        "outputId": "9d151a68-6152-44ff-de59-97bd76584e04",
        "colab": {
          "base_uri": "https://localhost:8080/"
        }
      },
      "outputs": [
        {
          "output_type": "stream",
          "name": "stdout",
          "text": [
            "   last_name  weight1  weight2  height1  height2  weight_diff  is_same_person\n",
            "0     Nguyen     65.0     65.5    170.0    171.0          0.5               1\n",
            "10      Tran     60.0     59.9    168.0    168.0          0.1               1\n"
          ]
        }
      ],
      "source": [
        "import sqlite3\n",
        "import pandas as pd\n",
        "\n",
        "# Kết nối SQLite (trong bộ nhớ)\n",
        "conn = sqlite3.connect(':memory:')\n",
        "\n",
        "# Tạo bảng Patient\n",
        "conn.execute('''\n",
        "CREATE TABLE Patient (\n",
        "    last_name TEXT,\n",
        "    weight REAL,\n",
        "    height REAL\n",
        ")\n",
        "''')\n",
        "\n",
        "# Thêm dữ liệu mẫu bằng list of dictionaries và executemany\n",
        "patients_data = [\n",
        "    {'last_name': 'Nguyen', 'weight': 65, 'height': 170},\n",
        "    {'last_name': 'Nguyen', 'weight': 65.5, 'height': 171},\n",
        "    {'last_name': 'Tran', 'weight': 60, 'height': 168},\n",
        "    {'last_name': 'Nguyen', 'weight': 70, 'height': 172},\n",
        "    {'last_name': 'Tran', 'weight': 59.9, 'height': 168},\n",
        "    {'last_name': 'Le', 'weight': 50, 'height': 160}\n",
        "]\n",
        "\n",
        "patients_tuple = [(p['last_name'], p['weight'], p['height']) for p in patients_data]\n",
        "conn.executemany('INSERT INTO Patient VALUES (?, ?, ?)', patients_tuple)\n",
        "\n",
        "# Truy vấn tìm các cặp có thể là cùng một người\n",
        "query = '''\n",
        "SELECT\n",
        "    A.last_name, A.weight AS weight1, B.weight AS weight2,\n",
        "    A.height AS height1, B.height AS height2,\n",
        "    ABS(A.weight - B.weight) AS weight_diff,\n",
        "    CASE\n",
        "        WHEN A.last_name = B.last_name AND ABS(A.weight - B.weight) <= 1 THEN 1\n",
        "        ELSE 0\n",
        "    END AS is_same_person\n",
        "FROM Patient A\n",
        "JOIN Patient B\n",
        "    ON A.rowid < B.rowid\n",
        "'''\n",
        "\n",
        "# Hiển thị kết quả\n",
        "df = pd.read_sql(query, conn)\n",
        "print(df.loc[(df['is_same_person'] == 1)])"
      ]
    }
  ],
  "metadata": {
    "kernelspec": {
      "display_name": "base",
      "language": "python",
      "name": "python3"
    },
    "language_info": {
      "codemirror_mode": {
        "name": "ipython",
        "version": 3
      },
      "file_extension": ".py",
      "mimetype": "text/x-python",
      "name": "python",
      "nbconvert_exporter": "python",
      "pygments_lexer": "ipython3",
      "version": "3.12.7"
    },
    "colab": {
      "provenance": []
    }
  },
  "nbformat": 4,
  "nbformat_minor": 0
}